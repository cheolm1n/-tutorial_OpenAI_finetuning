{
 "cells": [
  {
   "cell_type": "markdown",
   "metadata": {},
   "source": [
    "# 학습데이터 준비 (전처리 과정)\n",
    "\n",
    "- 예제로 사용된 데이터는 `AI 허브`에 공개된 데이터를 사용했습니다.\n",
    "\n",
    "  - 출처 : https://www.aihub.or.kr/aihubdata/data/view.do?currMenu=&topMenu=&aihubDataSe=realm&dataSetSn=98\n",
    "  - 참고 : https://openai.com/blog/gpt-3-5-turbo-fine-tuning-and-api-updates"
   ]
  },
  {
   "cell_type": "code",
   "execution_count": null,
   "metadata": {},
   "outputs": [],
   "source": [
    "import json\n",
    "\n",
    "def convert_data(input_file, output_file):\n",
    "    with open(input_file, 'r') as f:\n",
    "        data = json.load(f)\n",
    "\n",
    "    grouped_data = {}\n",
    "    for item in data:\n",
    "        dialogue_number = item[\"대화셋일련번호\"]\n",
    "\n",
    "        if dialogue_number not in grouped_data:\n",
    "            grouped_data[dialogue_number] = [{\"role\": \"system\", \"content\": \"이것은 고객센터에서 대중교통에 대한 고객 질문에 답변하는 대화입니다.\"}]\n",
    "\n",
    "        role = \"assistant\" if item[\"화자\"] == \"상담사\" else \"user\"\n",
    "        question = item[\"고객질문(요청)\"] if role == \"user\" else item[\"상담사질문(요청)\"]\n",
    "        answer = item[\"고객답변\"] if role == \"user\" else item[\"상담사답변\"]\n",
    "\n",
    "        if question:\n",
    "            grouped_data[dialogue_number].append({\"role\": role, \"content\": question})\n",
    "        if answer:\n",
    "            grouped_data[dialogue_number].append({\"role\": role, \"content\": answer})\n",
    "\n",
    "    with open(output_file, 'w', encoding='utf-8') as f:\n",
    "        for key, val in grouped_data.items():\n",
    "            f.write(json.dumps({\"messages\": val}, ensure_ascii=False) + \"\\n\")\n",
    "\n",
    "\n",
    "convert_data('민원(콜센터) 질의응답_다산콜센터_대중교통 안내_Training.json', '민원(콜센터) 질의응답_다산콜센터_대중교통 안내_Training.jsonl')"
   ]
  },
  {
   "cell_type": "markdown",
   "metadata": {},
   "source": [
    "# 데이터셋 업로드\n",
    "- 데이터셋은 OpenAI에 업로드해야 학습에 이용 할 수 있습니다."
   ]
  },
  {
   "cell_type": "code",
   "execution_count": null,
   "metadata": {},
   "outputs": [],
   "source": [
    "import os\n",
    "import openai\n",
    "\n",
    "openai.api_key = 'YOUR_API_KEY'\n",
    "openai.File.create(\n",
    "  file=open(\"민원(콜센터) 질의응답_다산콜센터_대중교통 안내_Training.jsonl\", \"rb\"),\n",
    "  purpose='fine-tune'\n",
    ")"
   ]
  },
  {
   "cell_type": "markdown",
   "metadata": {},
   "source": [
    "# 파인튜닝 job 생성\n",
    "- 파인튜닝 job을 생성하고 잠시 기다리면 파인튜닝이 시작됩니다.\n",
    "- 데이터셋 크기와 epoch 수에 따라 시간이 오래 걸릴 수 있습니다.\n",
    "- 예제로 사용된 다산 콜센터 상담 내용은 3 epoch 진행되었고 대략 50분 정도의 시간이 필요합니다. \n"
   ]
  },
  {
   "cell_type": "code",
   "execution_count": null,
   "metadata": {},
   "outputs": [],
   "source": [
    "openai.FineTuningJob.create(training_file=\"YOUR_FILE\", model=\"gpt-3.5-turbo\")"
   ]
  },
  {
   "cell_type": "code",
   "execution_count": null,
   "metadata": {},
   "outputs": [],
   "source": [
    "# List 10 fine-tuning jobs\n",
    "openai.FineTuningJob.list(limit=10)\n",
    "\n",
    "# Retrieve the state of a fine-tune\n",
    "# openai.FineTuningJob.retrieve(\"YOUR_JOB\")\n",
    "\n",
    "# Cancel a job\n",
    "# openai.FineTuningJob.cancel(\"YOUR_JOB\")\n",
    "\n",
    "# List up to 10 events from a fine-tuning job\n",
    "# openai.FineTuningJob.list_events(id=\"YOUR_JOB\", limit=10)\n",
    "\n",
    "# Delete a fine-tuned model (must be an owner of the org the model was created in)\n",
    "# openai.Model.delete(\"YOUR_JOB\")"
   ]
  },
  {
   "cell_type": "markdown",
   "metadata": {},
   "source": [
    "# 파인 튜닝된 모델을 사용해 질의하기"
   ]
  },
  {
   "cell_type": "code",
   "execution_count": null,
   "metadata": {},
   "outputs": [],
   "source": [
    "completion = openai.ChatCompletion.create(\n",
    "  model=\"YOUR_MODEL\",\n",
    "  messages=[\n",
    "    {\"role\": \"system\", \"content\": \"이것은 고객센터에서 대중교통에 대한 고객 질문에 답변하는 대화입니다.\"},\n",
    "    {\"role\": \"user\", \"content\": \"야탑역에서 판교역가는 버스를 알려주세요\"}\n",
    "  ]\n",
    ")\n",
    "print(completion.choices[0].message)"
   ]
  }
 ],
 "metadata": {
  "kernelspec": {
   "display_name": "Python 3",
   "language": "python",
   "name": "python3"
  },
  "language_info": {
   "codemirror_mode": {
    "name": "ipython",
    "version": 3
   },
   "file_extension": ".py",
   "mimetype": "text/x-python",
   "name": "python",
   "nbconvert_exporter": "python",
   "pygments_lexer": "ipython3",
   "version": "3.11.4"
  },
  "orig_nbformat": 4
 },
 "nbformat": 4,
 "nbformat_minor": 2
}
